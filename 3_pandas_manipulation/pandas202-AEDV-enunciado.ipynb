{
 "cells": [
  {
   "cell_type": "code",
   "execution_count": null,
   "metadata": {},
   "outputs": [],
   "source": [
    "import pandas as pd\n",
    "import numpy as np\n",
    "import matplotlib.pyplot as plt"
   ]
  },
  {
   "cell_type": "markdown",
   "metadata": {},
   "source": [
    "## Tratamiento de datos de estaciones de medida meteorológicas de la AEMET\n",
    "\n",
    "Los datos que se usarán en esta tarea proceden de la __[Agencia Estatal de Meteorología](http://www.aemet.es/es/portada)__.\n",
    "Se han ido recopilando mediante sucesivas peticiones a la API REST de __[AEMET OpenData](http://www.aemet.es/es/datos_abiertos/AEMET_OpenData)__ y ahora están almacenados en el fichero `datos/opendata_AEMET.csv` que acompaña a este *Notebook*.\n",
    "\n",
    "El fichero CSV contiene datos de medidas meteorológicas de estaciones en toda España con una frecuencia horaria, que abarcan desde el 11-05-2021 a las 18:00 hasta el 15-06-2021 a las 04:00.\n",
    "\n",
    "<a id=\"sec_parametros_problema_ID\"></a>\n",
    "## Parámetros del problema\n",
    "\n",
    "Vamos a plantearte una serie de cuestiones de extracción de información del dataset y algunas transformaciones. A continuación se definen algunos parámetros que te harán falta para resolver las cuestiones:\n",
    "\n",
    "- fname: nombre del fichero de datos CSV de openData de AEMET\n",
    "- fecha_ini: (str) fecha inicial\n",
    "- fecha_fin: (str) fecha final \n",
    "- nombre_dominio: (str) nombre del dominio\n",
    "- upper_right: (tupla: (lat, lon)) esquina superior derecha del bounding box del dominio\n",
    "- lower_left: (tupla: (lat, lon)) esquina inferior izquierda del bounding box del dominio"
   ]
  },
  {
   "cell_type": "code",
   "execution_count": null,
   "metadata": {},
   "outputs": [],
   "source": [
    "# Fichero CSV de datos openData de AEMET\n",
    "fname = './datos/opendata_AEMET.csv'\n",
    "\n",
    "# Fechas de interés (ambas se incluyen)\n",
    "fecha_ini = '2021-05-15 00:00'\n",
    "fecha_fin = '2021-06-12 18:00'\n",
    "\n",
    "# Nombre y bounding box de la zona de interés\n",
    "nombre_dominio = 'Baleares'\n",
    "upper_right = (40.460101, 4.722377) # (latitud, longitud)\n",
    "lower_left = (38.464513, 0.948573)  # (latitud, longitud)"
   ]
  },
  {
   "cell_type": "markdown",
   "metadata": {},
   "source": [
    "## Leer y explorar el fichero\n",
    "### Cuestiones básicas\n",
    "* Tamaño del dataset (variables y observaciones)\n",
    "* Obtén los nombre de las variables y su tipo de almacenamiento (entero, punto flotante, *object*, ...)\n",
    "* ¿Hay filas duplicadas?\n",
    "    * ¿Cuántas? \n",
    "    * Si las hay, eliminalas\n",
    "* ¿Hay columnas con [varianza cero](https://www.r-bloggers.com/2014/03/near-zero-variance-predictors-should-we-remove-them/)?\n",
    "    * ¿Cuántas?\n",
    "    * Si las hay, eliminalas"
   ]
  },
  {
   "cell_type": "code",
   "execution_count": null,
   "metadata": {},
   "outputs": [],
   "source": [
    "df_orig = pd.read_csv(fname)\n",
    "df_orig.shape"
   ]
  },
  {
   "attachments": {},
   "cell_type": "markdown",
   "metadata": {},
   "source": [
    "Hay 641101 observaciones y 39 variables"
   ]
  },
  {
   "cell_type": "code",
   "execution_count": null,
   "metadata": {},
   "outputs": [],
   "source": [
    "stds = df_orig.describe().std()\n",
    "stds[stds < 10]"
   ]
  },
  {
   "attachments": {},
   "cell_type": "markdown",
   "metadata": {},
   "source": [
    "Ninguna variable tiene varianza cero."
   ]
  },
  {
   "cell_type": "markdown",
   "metadata": {},
   "source": [
    "## Escoger las variables que nos interesan\n",
    "Los metadatos de opendata de AEMET están la siguiente URL:\n",
    "https://opendata.aemet.es/opendata/sh/55c2971b\n",
    "\n",
    "Hemos de quedarnos con las siguientes variables y eliminar las demás del dataset:\n",
    "- Fecha y hora final del periodo de observación\n",
    "- Identificador de las estaciones\n",
    "- Ubicación de las estaciones (latitud, longitud y ubicación)\n",
    "- Altitud de las estaciones\n",
    "- Velocidad media del viento (sensor no ultrasónico)\n",
    "- Dirección media del viento (sensor no ultrasónico)\n",
    "- Temperatura instantánea del aire\n",
    "\n",
    "Determina el tipo (continuo, discreto, categórico, ordinal, nominal, binario) de cada una de las variables."
   ]
  },
  {
   "cell_type": "code",
   "execution_count": null,
   "metadata": {},
   "outputs": [],
   "source": [
    "labels = [\n",
    "\t'fint',\n",
    "\t'idema',\n",
    "\t'lat',\n",
    "\t'lon',\n",
    "\t'ubi',\n",
    "\t'alt',\n",
    "\t'vv',\n",
    "\t'dv',\n",
    "\t'ta'\n",
    "]\n",
    "df = df_orig.filter(labels)\n",
    "df.head()"
   ]
  },
  {
   "cell_type": "markdown",
   "metadata": {},
   "source": [
    "## Conversión de tipos\n",
    "\n",
    "En general es conveniente que las variables que representan fecha/hora sean de tipo *datetime*. En el dataset hay una variable que almacena la fecha/hora de cada observación.\n",
    "\n",
    "* ¿Qué variable almacena la fecha/hora de la observación?\n",
    "* ¿De qué tipo es?\n",
    "* Conviértela a tipo *__[datetime](https://pandas.pydata.org/pandas-docs/stable/user_guide/timeseries.html#converting-to-timestamps)__* "
   ]
  },
  {
   "cell_type": "code",
   "execution_count": null,
   "metadata": {},
   "outputs": [],
   "source": [
    "df['fint'] = pd.to_datetime(df['fint'])\n",
    "df.info()"
   ]
  },
  {
   "cell_type": "markdown",
   "metadata": {},
   "source": [
    "## Selección de datos\n",
    "\n",
    "El dataset contiene datos de todas las estaciones de AEMET en España a lo largo de varios meses de 2021. \n",
    "\n",
    "### Selección de las fechas\n",
    "\n",
    "Nos interesa quedarnos con un subconjunto de esas medidas, seleccionando aquellas que estén comprendidas entre las fechas `fecha_ini` y `fecha_fin` (ver [Parámetros del problema](#sec_parametros_problema_ID))"
   ]
  },
  {
   "cell_type": "code",
   "execution_count": null,
   "metadata": {},
   "outputs": [],
   "source": [
    "print('Before filtering: ', df_orig.shape)\n",
    "df = df[(df['fint'] >= fecha_ini) & (df['fint'] <= fecha_fin)]\n",
    "print('After filtering: ', df.shape)"
   ]
  },
  {
   "cell_type": "markdown",
   "metadata": {},
   "source": [
    "### Selección de un área geográfica\n",
    "\n",
    "Ahora debemos quedarnos únicamente con las estaciones que están en las islas Baleares. Para ello hemos determinado una zona geográfica en forma de rectángulo (bounding box) que está delimitado por su esquina inferior izquierda y su esquina superior derecha, conforme a los siguientes parámetros (tuplas):\n",
    "* esquina inferior izquierda: `lower_left`\n",
    "* esquina superior derecha: `upper_right`\n",
    "\n",
    "En ambos casos el primer elemento de la tupla es la latitud y el segundo la longitud. Ver [Parámetros del problema](#sec_parametros_problema_ID).\n",
    "\n",
    "<img src=\"datos/mapa_bbox.png\" alt=\"Alt text\" title=\"Title text\" />\n",
    "\n",
    "El rectángulo rojo representa el *bounding box*, que está definido por sus esquinas *lower left* y *upper right*."
   ]
  },
  {
   "cell_type": "markdown",
   "metadata": {},
   "source": [
    "## Conteo de NaNs\n",
    "\n",
    "Identifica las variables que tienen valores faltantes y calcula cuántos valores le faltan a cada una."
   ]
  },
  {
   "cell_type": "markdown",
   "metadata": {},
   "source": [
    "## Identifica y elimina las estaciones que no tengan medidas de viento o de temperatura\n",
    "\n",
    "El objetivo de este apartado es identificar y eliminar del dataset aquellas estaciones que no tengan ningún valor válido de viento (ya sea de magnitud o de dirección) o de temperatura.\n",
    "\n",
    "Se pide:\n",
    "\n",
    "* Identificación: obtener para cada estación, el nombre, el número de NaNs que tiene en cada una de las tres variables de interés (*vv*, *dv* y *ta*) y el porcentaje de NaNs sobre el número de medidas de esa estación.\n",
    "\n",
    "* Eliminar del dataset aquellas estaciones que no tengan medidas de viento (magnitud o dirección) o de temperatura\n",
    "\n",
    "Por ejemplo, dado el siguiente dataset, deben eliminarse las estaciones B (no tiene medidas de temperatura) y C (no tiene medidas de velocidad de viento); la información de la estación A ha de permanecer inalterada:\n",
    "\n",
    "| idema | vv | dv  | ta |\n",
    "|-------|----|-----|----|\n",
    "| A     | 6  | 30  | NA |\n",
    "| A     | 7  | 48  | 23 |\n",
    "| A     | NA | NA  | 27 |\n",
    "| B     | 4  | 120 | NA |\n",
    "| B     | 6  | 96  | NA |\n",
    "| C     | NA | 35  | 18 |\n",
    "| C     | NA | 30  | 20 |\n",
    "| C     | NA | 40  | 21 |\n",
    "\n"
   ]
  },
  {
   "cell_type": "code",
   "execution_count": null,
   "metadata": {},
   "outputs": [],
   "source": [
    "df['idema'].unique().size"
   ]
  },
  {
   "cell_type": "code",
   "execution_count": null,
   "metadata": {},
   "outputs": [],
   "source": [
    "grouped = df.filter(['idema', 'vv', 'dv', 'ta']).groupby('idema')\n",
    "na_info  = (\n",
    "\tgrouped\n",
    "\t.agg([lambda s:s.size-s.count(), lambda s: s.count() / s.size])\n",
    "\t.rename(columns={'<lambda_0>': 'missing', '<lambda_1>': 'ratio'})\n",
    ")\n",
    "na_info.head()"
   ]
  },
  {
   "cell_type": "code",
   "execution_count": null,
   "metadata": {},
   "outputs": [],
   "source": [
    "has_data = grouped.count() != 0\n",
    "have_data_labels = has_data[(has_data['vv'] & has_data['dv'] & has_data['ta'])].index\n",
    "df = df[df['idema'].isin(have_data_labels)]\n",
    "df.head()"
   ]
  },
  {
   "cell_type": "markdown",
   "metadata": {},
   "source": [
    "## Imputación de valores faltantes\n",
    "Aunque se hayan eliminado las estaciones que no tenían ningún valor de viento o de temperatura, aún quedan algunos NAs en las demás estaciones.\n",
    "\n",
    "Imputa a los valores faltantes de viento (módulo y dirección) y temperatura la media de sus dos vecinos más cercanos **en el tiempo**, es decir, si falta un valor en la estación XYZ a las 10 horas, impútale la media de ese valor en esa misma estación a las 09 horas y a las 11 horas (si esos faltan, usa siempre el valor del más próximo que exista). \n",
    "\n",
    "\n",
    "Pista: __[df.ffill()](https://pandas.pydata.org/pandas-docs/stable/reference/api/pandas.DataFrame.ffill.html?highlight=ffill#pandas.DataFrame.ffill)__ \n",
    ",\n",
    "__[df.bfill()](https://pandas.pydata.org/pandas-docs/stable/reference/api/pandas.DataFrame.bfill.html?highlight=bfill#pandas.DataFrame.bfill)__\n",
    "y\n",
    "__[df.fillna()](https://pandas.pydata.org/pandas-docs/stable/reference/api/pandas.DataFrame.fillna.html#pandas.DataFrame.fillna)__"
   ]
  },
  {
   "cell_type": "code",
   "execution_count": null,
   "metadata": {},
   "outputs": [],
   "source": [
    "# fill the NA values of the columns by interpolation with the previous and next values of the same location\n",
    "group_by_station = df.sort_values(by=['fint']).groupby('idema')\n",
    "\n",
    "transformed = group_by_station.transform(lambda s: s.fillna((s.bfill() + s.ffill()) / 2))\n",
    "\n",
    "transformed.count(), df.count()"
   ]
  },
  {
   "cell_type": "markdown",
   "metadata": {},
   "source": [
    "## Normalizar los nombres de las ubicaciones\n",
    "\n",
    "No todos los nombres de las ubicaciones siguen el mismo formato, así que te vamos a pedir que los normalices de forma que:\n",
    "\n",
    "- Todos los nombres estén en mayúsculas (p.e.: Sóller --> SÓLLER)\n",
    "- No haya espacios al principio ni al final de los nombres (p.e.: 'BANYALBUFAR ' --> 'BANYALBUFAR')\n",
    "- El carácter '/' debe ser sustituido por '-' (p.e.: 'MENORCA/AEROPUERTO' --> 'MENORCA-AEROPUERTO')\n",
    "- No debe haber espacios repetidos (p.e.: 'CAMPOS-SALINES  LEVANT' --> 'CAMPOS-SALINES LEVANT')\n",
    "\n",
    "Por supuesto, debes realizar esta normalización usando pandas. Los siguientes enlaces pueden ser útiles:\n",
    "\n",
    "- [https://pandas.pydata.org/docs/user_guide/text.html](https://pandas.pydata.org/docs/user_guide/text.html)\n",
    "- [https://pandas.pydata.org/docs/reference/series.html#api-series-str](https://pandas.pydata.org/docs/reference/series.html#api-series-str)"
   ]
  },
  {
   "cell_type": "code",
   "execution_count": null,
   "metadata": {},
   "outputs": [],
   "source": [
    "def normalize_str(s):\n",
    "  s = s.upper()\n",
    "  s = s.strip()\n",
    "  s = s.replace('/', '-')\n",
    "  s = \" \".join(s.split())\n",
    "  return s\n",
    "\n",
    "df['ubi'] = df['ubi'].map(normalize_str)"
   ]
  },
  {
   "cell_type": "markdown",
   "metadata": {},
   "source": [
    "## Distribución de los datos de temperatura\n",
    "\n",
    "Para cada una de las siguientes ubicaciones, representa un histograma de sus temperaturas; considera **solamente los 180 días más recientes** en los que hay datos de cada ubicación:\n",
    "\n",
    "- Sóller\n",
    "- Banyalbufar\n",
    "- Sierra de Alfabia\n",
    "- Capdepera-Faro\n",
    "- Menorca/Aeropuerto"
   ]
  },
  {
   "cell_type": "code",
   "execution_count": null,
   "metadata": {},
   "outputs": [],
   "source": [
    "stations = ('SÓLLER', 'BANYALBUFAR', 'SIERRA DE ALFABIA', 'CAPDEPERA-FARO', 'MENORCA/AEROPUERTO')\n",
    "limited_df = df[df['ubi'].isin(stations)].head()\n",
    "\n",
    "grouped_by_station = limited_df.groupby('ubi')\n"
   ]
  },
  {
   "cell_type": "markdown",
   "metadata": {},
   "source": [
    "## Crear nuevas variables\n",
    "El viento está expresado mediante su módulo (variable *vv* en m/s) y el ángulo desde el que sopla (variable *dir*) medido en grados sexagesimales referidos al norte (0 grados) y en el sentido horario, es decir:\n",
    "* viento soplando desde el norte: 0 grados\n",
    "* viento soplando desde el este: 90 grados\n",
    "* viento soplando desde el sur: 180 grados\n",
    "* viento soplando desde el oeste: 270 grados\n",
    "\n",
    "En ocasiones conviene conocer la velocidad del viento expresada en sus componentes cartesianas $v_{x}, v_{y}$. \n",
    "\n",
    "Añade dos nuevas variables (columnas) al dataset (sean vx, vy), con las componentes de velocidad calculadas de la siguiente manera:\n",
    "\n",
    "$$\n",
    "v_{x} = m \\ cos(\\alpha)\\\\\n",
    "v_{y} = m \\ sin(\\alpha)\\\\\n",
    "\\alpha = \\frac{(270 - \\theta) \\ \\pi}{180} \\\\\n",
    "$$\n",
    "\n",
    "donde $m$ es el módulo del viento, $\\theta$ es el ángulo medido respecto al norte; $\\alpha$ está expresado en radianes.\n"
   ]
  },
  {
   "cell_type": "code",
   "execution_count": null,
   "metadata": {},
   "outputs": [],
   "source": [
    "alpha = (270 - df['dv']) * np.pi / 180\n",
    "vx = df['vv'] * np.cos(alpha)\n",
    "vy = df['vv'] * np.sin(alpha)\n",
    "df['vx'] = vx\n",
    "df['vy'] = vy\n",
    "df.head()"
   ]
  },
  {
   "cell_type": "markdown",
   "metadata": {},
   "source": [
    "## Escritura de ficheros de resultados\n",
    "\n",
    "Escribir un fichero CSV de cada estación por separado con la información correspondiente a cada una de ellas ordenada por fecha/hora.\n",
    "\n",
    "Los ficheros han de tener cabecera, el separador de campos ha de ser la coma (\",\") y no debe tener índice en las filas.\n",
    "\n",
    "Todos los ficheros generados han de guardarse en el directorio `datos`.\n",
    "\n",
    "Los nombres de los ficheros han de tener el siguiente formato:\n",
    "`ID_ESTACION_YYYYMMDD.CSV`, donde:\n",
    "\n",
    "* `ID_ESTACION` es el nombre de la estación\n",
    "* `YYYY` es el año de la observación más reciente, con cuatro cifras\n",
    "* `MM` es el número del mes de la observación más reciente, con dos cifras\n",
    "* `DD` es el número del día de la observación más reciente, con dos cifras\n",
    "\n",
    "**Pista**: ver __[sort_values()](https://pandas.pydata.org/pandas-docs/stable/reference/api/pandas.DataFrame.sort_values.html?highlight=sort_values#pandas.DataFrame.sort_values)__\n",
    ",\n",
    "__[to_csv()](https://pandas.pydata.org/pandas-docs/stable/reference/api/pandas.DataFrame.to_csv.html?highlight=to_csv#pandas.DataFrame.to_csv)__\n",
    "y\n",
    "__[strftime()](https://pandas.pydata.org/pandas-docs/stable/reference/api/pandas.Timestamp.strftime.html?highlight=strftime)__"
   ]
  },
  {
   "cell_type": "code",
   "execution_count": null,
   "metadata": {},
   "outputs": [],
   "source": [
    "data_dir = './datos/'\n"
   ]
  },
  {
   "cell_type": "markdown",
   "metadata": {
    "tags": []
   },
   "source": [
    "## Gráfica del módulo de viento\n",
    "\n",
    "Crea una gráfica del módulo de viento de las estaciones *B013X* y *B051A* similar a la siguiente que aparece más abajo.\n",
    "\n",
    "Para que las etiquetas del eje de abscisas (horizontal) se representen correctamente basta con hacer que el índice del dataframe contenga los valores de fecha/hora adecuadamente ordenados. A estos efectos, considera el uso de [df.set_index()](https://pandas.pydata.org/docs/reference/api/pandas.DataFrame.set_index.html) y de [df.sort_index()](https://pandas.pydata.org/docs/reference/api/pandas.DataFrame.sort_index.html).\n"
   ]
  },
  {
   "cell_type": "markdown",
   "metadata": {},
   "source": [
    "<img src=\"./datos/grafica_vv.png\" alt=\"grafica del modulo de viento en las estaciones B013X Y B051A\" title=\"Title text\" />"
   ]
  }
 ],
 "metadata": {
  "hide_input": false,
  "kernelspec": {
   "display_name": "Python 3",
   "language": "python",
   "name": "python3"
  },
  "language_info": {
   "codemirror_mode": {
    "name": "ipython",
    "version": 3
   },
   "file_extension": ".py",
   "mimetype": "text/x-python",
   "name": "python",
   "nbconvert_exporter": "python",
   "pygments_lexer": "ipython3",
   "version": "3.10.9"
  },
  "toc": {
   "base_numbering": 1,
   "nav_menu": {},
   "number_sections": true,
   "sideBar": true,
   "skip_h1_title": false,
   "title_cell": "Table of Contents",
   "title_sidebar": "Contents",
   "toc_cell": false,
   "toc_position": {},
   "toc_section_display": true,
   "toc_window_display": false
  },
  "vscode": {
   "interpreter": {
    "hash": "124093b7be10c32076c75f60f415d6def65edeb693f6c465ae4e1e508e9d8137"
   }
  }
 },
 "nbformat": 4,
 "nbformat_minor": 4
}
