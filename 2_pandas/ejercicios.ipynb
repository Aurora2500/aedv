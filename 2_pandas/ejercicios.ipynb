{
 "cells": [
  {
   "cell_type": "markdown",
   "metadata": {},
   "source": [
    "## Ejercicios\n",
    "Resuelve las siguientes cuestiones con pandas. Todas están referidas al dataset del Titanic (`train.csv`)\n",
    "\n",
    "1. ¿Qué variables del dataset *train.csv* del titanic son categóricas y cuáles numéricas? Usa tu olfato de *data scientist* en ciernes y, si quieres, alguna función de pandas que pueda ayudar.\n",
    "\n",
    "1. ¿Qué hace el método `df.nunique()`? Considera su aplicación al dataframe completo o a un subconjunto de variables (columnas).\n",
    "\n",
    "1. ¿Cómo se pueden obtener las categorías que componen una variable categórica? Aplícalo a las variables categóricas del dataset que consideres oportuno.\n",
    "> Las categorías de *Pclass* son 1, 2 y 3\n",
    "\n",
    "1. Calcula la media y la desviación típica del precio de los billetes.\n",
    "\n",
    "1. Calcula los cuartiles de la variable *Fare* y los deciles de la variable *Age*.\n",
    "\n",
    "1. ¿Cuántas mujeres figuran en el dataset? ¿y hombres?\n",
    "\n",
    "1. ¿Cuál es el precio más alto que se pagó por un billete de tercera clase? ¿Era de un pasajero femenino o masculino?\n",
    "\n",
    "1. ¿Cuál fue la tarifa más alta que se aplicó a las mujeres menores de 35 años?\n",
    "\n",
    "1. Considera el conjunto de los pasajeros masculinos de segunda y tercera clase. ¿Cuál es la media de edad de ese subconjunto?\n",
    "\n",
    "1. Pandas usa `NaN` (Not a Number) para denotar los valores que se desconocen. Averigua el número de valores que faltan (es decir, el número de NaNs) que hay en cada variable (columna). ¿Cuál es la variable que tiene mayor número de valores no disponibles (NaN)?\n",
    "\n",
    "1. En el enlace que aparece más abajo se explica cómo acceder a elementos combinando el acceso por etiqueta (.loc) y el acceso por posición (.iloc). Selecciona, por su nombre, las variables *Age*, *Name*, *Survived* correspondientes a las filas pares.\n",
    "\n",
    "> __[https://pandas.pydata.org/pandas-docs/stable/user_guide/indexing.html#combining-positional-and-label-based-indexing](https://pandas.pydata.org/pandas-docs/stable/user_guide/indexing.html#combining-positional-and-label-based-indexing)__\n"
   ]
  },
  {
   "cell_type": "code",
   "execution_count": null,
   "metadata": {},
   "outputs": [],
   "source": [
    "import numpy as np\n",
    "import pandas as pd"
   ]
  },
  {
   "cell_type": "code",
   "execution_count": null,
   "metadata": {},
   "outputs": [],
   "source": [
    "df = pd.read_csv('./datasets/train.csv')\n",
    "df"
   ]
  },
  {
   "cell_type": "code",
   "execution_count": null,
   "metadata": {},
   "outputs": [],
   "source": [
    "df['Fare'].agg(['mean', 'std'])"
   ]
  },
  {
   "cell_type": "code",
   "execution_count": null,
   "metadata": {},
   "outputs": [],
   "source": []
  }
 ],
 "metadata": {
  "kernelspec": {
   "display_name": "Python 3.10.9 64-bit",
   "language": "python",
   "name": "python3"
  },
  "language_info": {
   "codemirror_mode": {
    "name": "ipython",
    "version": 3
   },
   "file_extension": ".py",
   "mimetype": "text/x-python",
   "name": "python",
   "nbconvert_exporter": "python",
   "pygments_lexer": "ipython3",
   "version": "3.10.9"
  },
  "vscode": {
   "interpreter": {
    "hash": "e7370f93d1d0cde622a1f8e1c04877d8463912d04d973331ad4851f04de6915a"
   }
  }
 },
 "nbformat": 4,
 "nbformat_minor": 2
}
