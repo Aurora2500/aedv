{
 "cells": [
  {
   "cell_type": "code",
   "execution_count": null,
   "id": "4d39b72e",
   "metadata": {},
   "outputs": [],
   "source": [
    "import pandas as pd\n",
    "import numpy as np\n",
    "import matplotlib.pyplot as plt"
   ]
  },
  {
   "cell_type": "markdown",
   "id": "3e618e4f",
   "metadata": {},
   "source": [
    "## Pandas Series \n",
    "\n",
    "Serie: *array* unidimensional con índices no necesariamente numéricos. "
   ]
  },
  {
   "cell_type": "code",
   "execution_count": null,
   "id": "17ed04c9",
   "metadata": {},
   "outputs": [],
   "source": [
    "# Una serie de enteros\n",
    "s1 = pd.Series(np.arange(10, 17))\n",
    "s1"
   ]
  },
  {
   "cell_type": "code",
   "execution_count": null,
   "id": "0a88e178",
   "metadata": {},
   "outputs": [],
   "source": [
    "type(s1)"
   ]
  },
  {
   "cell_type": "code",
   "execution_count": null,
   "id": "0da51df7",
   "metadata": {},
   "outputs": [],
   "source": [
    "s1.shape"
   ]
  },
  {
   "cell_type": "code",
   "execution_count": null,
   "id": "5867f058",
   "metadata": {},
   "outputs": [],
   "source": [
    "# Una serie de cadenas\n",
    "s2 = pd.Series(list(\"abcdef\"))\n",
    "s2"
   ]
  },
  {
   "cell_type": "code",
   "execution_count": null,
   "id": "a265dee1",
   "metadata": {},
   "outputs": [],
   "source": [
    "type(s2)"
   ]
  },
  {
   "cell_type": "code",
   "execution_count": null,
   "id": "7a151dec",
   "metadata": {},
   "outputs": [],
   "source": [
    "# Lista de números decimales (punto flotante)\n",
    "s3 = pd.Series(np.arange(-3.0, 3.0, .5))\n",
    "s3"
   ]
  },
  {
   "cell_type": "markdown",
   "id": "9a1a7540",
   "metadata": {},
   "source": [
    "Los índices son, básicamente, etiquetas (no necesariamente únicas) asociadas a las filas. Por defecto, números enteros."
   ]
  },
  {
   "cell_type": "code",
   "execution_count": null,
   "id": "d6838c11",
   "metadata": {},
   "outputs": [],
   "source": [
    "s3.index"
   ]
  },
  {
   "cell_type": "code",
   "execution_count": null,
   "id": "fca74710",
   "metadata": {},
   "outputs": [],
   "source": [
    "# Índices duplicados\n",
    "s4 = pd.Series(range(1, 6),\n",
    "              index=[0, 1, 0, 1, 3,])\n",
    "s4"
   ]
  },
  {
   "cell_type": "code",
   "execution_count": null,
   "id": "60773be1",
   "metadata": {},
   "outputs": [],
   "source": [
    "# Serie con índices arbitrarios (tipo cadena)\n",
    "fruta = pd.Series([3, 2, 4, 1], \n",
    "              index=['peras', 'manzanas', 'tomates', 'aguacates'])\n",
    "print(fruta)\n",
    "fruta.index"
   ]
  },
  {
   "cell_type": "markdown",
   "id": "cab34f4d",
   "metadata": {},
   "source": [
    "Las series también pueden crearse a partir de diccionarios"
   ]
  },
  {
   "cell_type": "code",
   "execution_count": null,
   "id": "fe8622c9",
   "metadata": {},
   "outputs": [],
   "source": [
    "d = {'Tierra': 1, \"Mercurio\": 0.389, \"Venus\": 0.723, \"Marte\": 1.524}\n",
    "s = pd.Series(d)\n",
    "s"
   ]
  },
  {
   "cell_type": "markdown",
   "id": "868dbdfc",
   "metadata": {},
   "source": [
    "### NA (valores faltantes)\n",
    "\n",
    "Cuando pandas no encuentra un valor que debería estar en una serie que almacena valores numéricos, esta falta de información se representa con *NaN*. Este valor representa un *Not A Number* y usualmente se ignora en las operaciones aritméticas."
   ]
  },
  {
   "cell_type": "code",
   "execution_count": null,
   "id": "30b9050c",
   "metadata": {},
   "outputs": [],
   "source": [
    "s6 = pd.Series([1, np.nan, 3, 4])\n",
    "s6"
   ]
  },
  {
   "cell_type": "code",
   "execution_count": null,
   "id": "4de970fe",
   "metadata": {},
   "outputs": [],
   "source": [
    "s7 = pd.Series(['a', np.nan])\n",
    "s7.info()"
   ]
  },
  {
   "cell_type": "markdown",
   "id": "157d60aa",
   "metadata": {},
   "source": [
    "NaN indica que ahí debería ir un número (un dato, en general), pero que se desconoce su valor. Equivale al *NA* de *R*.\n",
    "\n",
    "Observa que el tipo de los datos es *float64*, a pesar de que la lista contiene enteros; esto se debe a que el tipo *int64* no soporta *NaN*, así que pandas lo cambia automáticamente a un tipo numérico que sí lo soporta, *float64*"
   ]
  },
  {
   "cell_type": "code",
   "execution_count": null,
   "id": "e53031e1",
   "metadata": {},
   "outputs": [],
   "source": [
    "# Tamaño de la serie (número de entradas)\n",
    "s6.size"
   ]
  },
  {
   "cell_type": "code",
   "execution_count": null,
   "id": "447dbe7f",
   "metadata": {},
   "outputs": [],
   "source": [
    "# Número de entradas válidas en la serie (aquellas que no son NaN)\n",
    "s6.count()"
   ]
  },
  {
   "cell_type": "markdown",
   "id": "f7ae5da1",
   "metadata": {},
   "source": [
    "### Acceso a elementos de las series (selección, direccionamiento)\n",
    "\n",
    "operador *[ ]*"
   ]
  },
  {
   "cell_type": "code",
   "execution_count": null,
   "id": "e1c0ef57",
   "metadata": {},
   "outputs": [],
   "source": [
    "# Uso de [ ] con un índice\n",
    "s6[0]"
   ]
  },
  {
   "cell_type": "code",
   "execution_count": null,
   "id": "45bcd119",
   "metadata": {},
   "outputs": [],
   "source": [
    "s6[2]"
   ]
  },
  {
   "cell_type": "code",
   "execution_count": null,
   "id": "6ca8c9b3",
   "metadata": {},
   "outputs": [],
   "source": [
    "s6[1]"
   ]
  },
  {
   "cell_type": "code",
   "execution_count": null,
   "id": "08ae7d24",
   "metadata": {},
   "outputs": [],
   "source": [
    "# Índice de tipo cadena\n",
    "fruta['peras']"
   ]
  },
  {
   "cell_type": "code",
   "execution_count": null,
   "id": "cac16579",
   "metadata": {},
   "outputs": [],
   "source": [
    "# Se puede usar la posición (comienza en 0) \n",
    "fruta[0]"
   ]
  },
  {
   "cell_type": "code",
   "execution_count": null,
   "id": "e569b468",
   "metadata": {},
   "outputs": [],
   "source": [
    "# Acceso a elementos consecutivos (slicing)\n",
    "s6[1:3] # No se incluye el 3"
   ]
  },
  {
   "cell_type": "code",
   "execution_count": null,
   "id": "4a0d9e3c",
   "metadata": {},
   "outputs": [],
   "source": [
    "fruta['manzanas':'aguacates'] # se incluye 'aguacates'"
   ]
  },
  {
   "cell_type": "code",
   "execution_count": null,
   "id": "072360e6",
   "metadata": {},
   "outputs": [],
   "source": [
    "# Acceso a elementos arbitrarios\n",
    "fruta[['peras', 'aguacates', 'tomates']]"
   ]
  },
  {
   "cell_type": "code",
   "execution_count": null,
   "id": "f48dfa34",
   "metadata": {},
   "outputs": [],
   "source": [
    "# Acceso a elementos arbitrarios\n",
    "s6[[3, 0, 1]]"
   ]
  },
  {
   "cell_type": "markdown",
   "id": "898dda51",
   "metadata": {},
   "source": [
    "**Importante:** observa que si el acceso es a más de un elemento (*slicing*, o lista de índices) el objeto devuelto es una nueva serie; la original queda intacta."
   ]
  },
  {
   "cell_type": "code",
   "execution_count": null,
   "id": "700cf177",
   "metadata": {},
   "outputs": [],
   "source": [
    "# Acceso a elementos arbitrarios\n",
    "s = s6[[3, 0, 1]]\n",
    "type(s)"
   ]
  },
  {
   "cell_type": "code",
   "execution_count": null,
   "id": "fe477558",
   "metadata": {},
   "outputs": [],
   "source": [
    "# Error: no existe el índice\n",
    "# fruta['naranja']\n",
    "# s6[4]"
   ]
  },
  {
   "cell_type": "markdown",
   "id": "013aab26",
   "metadata": {},
   "source": [
    "### Atributos loc e iloc\n",
    "\n",
    "Estos dos atributos se usan junto con *[ ]*, para acceder a los elementos por su índice (*loc*) o por su posición (*iloc*).\n",
    "\n",
    "Ambos permiten *slicing* y acceso a listas de elementos arbitrarios."
   ]
  },
  {
   "cell_type": "code",
   "execution_count": null,
   "id": "8d0d9d13",
   "metadata": {},
   "outputs": [],
   "source": [
    "fruta.loc['tomates'] # por etiqueta"
   ]
  },
  {
   "cell_type": "code",
   "execution_count": null,
   "id": "fd305d37",
   "metadata": {},
   "outputs": [],
   "source": [
    "fruta.iloc[2] # por posición (siempre comienza en 0) "
   ]
  },
  {
   "cell_type": "code",
   "execution_count": null,
   "id": "d58ce2a7",
   "metadata": {},
   "outputs": [],
   "source": [
    "# Error: no hay ningún índice que sea 2\n",
    "# fruta.loc[2]"
   ]
  },
  {
   "cell_type": "code",
   "execution_count": null,
   "id": "7505ffa9",
   "metadata": {},
   "outputs": [],
   "source": [
    "s6.loc[2] # por etiqueta"
   ]
  },
  {
   "cell_type": "code",
   "execution_count": null,
   "id": "10a1b2d5",
   "metadata": {},
   "outputs": [],
   "source": [
    "s6.iloc[2] # por posición"
   ]
  },
  {
   "cell_type": "code",
   "execution_count": null,
   "id": "81d30743",
   "metadata": {},
   "outputs": [],
   "source": [
    "# Acceso al último elemento\n",
    "s6.iloc[-1]"
   ]
  },
  {
   "cell_type": "markdown",
   "id": "65cd4ffd",
   "metadata": {},
   "source": [
    "### Operadores\n",
    "\n",
    "Los operadores disponibles incluyen los siguientes: +, -, /, // (división con redondeo inferior (floor division)), % (modulus), @ (multiplicación de matrices), ** (potencia), <, <=, ==, !=, >=, >, & (\"y\" binario), ^ (\"o exclusivo\" binario), | (\"o\" binary)."
   ]
  },
  {
   "cell_type": "code",
   "execution_count": null,
   "id": "0c6f8801",
   "metadata": {},
   "outputs": [],
   "source": [
    "s1 = pd.Series([10, 20, 30])\n",
    "s2 = pd.Series([35, 44, 53])\n",
    "print(s1)\n",
    "print(s2)"
   ]
  },
  {
   "cell_type": "code",
   "execution_count": null,
   "id": "4f692fcc",
   "metadata": {},
   "outputs": [],
   "source": [
    "s1 + s2"
   ]
  },
  {
   "cell_type": "code",
   "execution_count": null,
   "id": "329bce70",
   "metadata": {},
   "outputs": [],
   "source": [
    "s1 / s2"
   ]
  },
  {
   "cell_type": "markdown",
   "id": "73132a31",
   "metadata": {},
   "source": [
    "Los operadores son simplemente una forma conveniente de invocar a métodos:"
   ]
  },
  {
   "cell_type": "code",
   "execution_count": null,
   "id": "3bb46ae6",
   "metadata": {},
   "outputs": [],
   "source": [
    "s1.add(s2)"
   ]
  },
  {
   "cell_type": "code",
   "execution_count": null,
   "id": "3ea96815",
   "metadata": {},
   "outputs": [],
   "source": [
    "s1.div(s2)"
   ]
  },
  {
   "cell_type": "markdown",
   "id": "a9bac5ec",
   "metadata": {},
   "source": [
    "#### Alineación por índice\n",
    "\n",
    "Las operaciones se hacen elemento a elemento, **tras alinear los índices**"
   ]
  },
  {
   "cell_type": "code",
   "execution_count": null,
   "id": "be2e4a5c",
   "metadata": {},
   "outputs": [],
   "source": [
    "s1 = pd.Series([10, 20, 30], index=[1, 2, 2])\n",
    "s2 = pd.Series([35, 44, 53], index=[2, 2, 4])\n",
    "\n",
    "s1 + s2"
   ]
  },
  {
   "cell_type": "markdown",
   "id": "ce229edf-7233-4d08-ab76-61b6b31a8bc5",
   "metadata": {},
   "source": [
    "##### Pregunta: sumar la serie fruta y la serie s1\n",
    "¿Qué resultado se obtendrá?"
   ]
  },
  {
   "cell_type": "markdown",
   "id": "ef7d9cbd",
   "metadata": {},
   "source": [
    "Algunos métodos operadores tienen argumentos opcionales."
   ]
  },
  {
   "cell_type": "code",
   "execution_count": null,
   "id": "433ccf59",
   "metadata": {},
   "outputs": [],
   "source": [
    "s1.add(s2, fill_value=0)"
   ]
  },
  {
   "cell_type": "markdown",
   "id": "48fd426b",
   "metadata": {},
   "source": [
    "#### Broadcasting"
   ]
  },
  {
   "cell_type": "code",
   "execution_count": null,
   "id": "dd2b3413",
   "metadata": {},
   "outputs": [],
   "source": [
    "s1 * 100"
   ]
  },
  {
   "cell_type": "code",
   "execution_count": null,
   "id": "991b7454",
   "metadata": {},
   "outputs": [],
   "source": [
    "s1.mul(100)"
   ]
  },
  {
   "cell_type": "markdown",
   "id": "8daef00a",
   "metadata": {},
   "source": [
    "#### Encadenamiento\n",
    "\n",
    "Cadena de llamadas a métodos"
   ]
  },
  {
   "cell_type": "code",
   "execution_count": null,
   "id": "faeb7fd4",
   "metadata": {},
   "outputs": [],
   "source": [
    "(s1 + s2) / 2"
   ]
  },
  {
   "cell_type": "code",
   "execution_count": null,
   "id": "07b54e7e",
   "metadata": {},
   "outputs": [],
   "source": [
    "(s1\n",
    "    .add(s2)\n",
    "    .div(2)\n",
    ")"
   ]
  },
  {
   "cell_type": "markdown",
   "id": "bd36a1b7",
   "metadata": {
    "tags": []
   },
   "source": [
    "## Pandas DataFrame\n",
    "\n",
    "Matriz bidimensional con filas y columnas etiquetadas. Cada columna es de tipo *Series*. Tienen dos índices: *index* (igual que las Series) y *columns*"
   ]
  },
  {
   "cell_type": "code",
   "execution_count": null,
   "id": "fd80ab85",
   "metadata": {},
   "outputs": [],
   "source": [
    "df = pd.DataFrame()\n",
    "print(df)"
   ]
  },
  {
   "cell_type": "code",
   "execution_count": null,
   "id": "618d751b",
   "metadata": {},
   "outputs": [],
   "source": [
    "meses = \"enero febrero marzo abril mayo junio\".split()\n",
    "df = pd.DataFrame(meses)\n",
    "df"
   ]
  },
  {
   "cell_type": "code",
   "execution_count": null,
   "id": "595f8ab0",
   "metadata": {},
   "outputs": [],
   "source": [
    "numero_dias = [31, 28, 31, 30, 31, 30]\n",
    "df = pd.DataFrame({'mes':meses, 'días':numero_dias})\n",
    "df"
   ]
  },
  {
   "cell_type": "code",
   "execution_count": null,
   "id": "a0167d54",
   "metadata": {},
   "outputs": [],
   "source": [
    "df.index"
   ]
  },
  {
   "cell_type": "code",
   "execution_count": null,
   "id": "aefc2eeb",
   "metadata": {},
   "outputs": [],
   "source": [
    "df.columns"
   ]
  },
  {
   "cell_type": "code",
   "execution_count": null,
   "id": "636aef40",
   "metadata": {},
   "outputs": [],
   "source": [
    "df.shape"
   ]
  },
  {
   "cell_type": "code",
   "execution_count": null,
   "id": "a58a3a8d",
   "metadata": {},
   "outputs": [],
   "source": [
    "len(df)"
   ]
  },
  {
   "cell_type": "code",
   "execution_count": null,
   "id": "8cd0cb84",
   "metadata": {},
   "outputs": [],
   "source": [
    "df.size"
   ]
  },
  {
   "cell_type": "code",
   "execution_count": null,
   "id": "8e78badf-18c0-4c02-b969-1258e91dad60",
   "metadata": {},
   "outputs": [],
   "source": [
    "df.count()"
   ]
  },
  {
   "cell_type": "code",
   "execution_count": null,
   "id": "f84d9b63",
   "metadata": {},
   "outputs": [],
   "source": [
    "# Initialize data to lists.\n",
    "data = [{'a': 1, 'b': 2, 'c':3},\n",
    "        {'a':10, 'b': 20, 'c': 30}]\n",
    " \n",
    "# Creates DataFrame.\n",
    "df = pd.DataFrame(data)\n",
    " \n",
    "# Print the data\n",
    "df"
   ]
  },
  {
   "cell_type": "code",
   "execution_count": null,
   "id": "70255c85",
   "metadata": {},
   "outputs": [],
   "source": [
    "# Initialize data to lists.\n",
    "data = [{'b': 2, 'c':3},\n",
    "        {'a':10, 'b': 20, 'c': 30}]\n",
    " \n",
    "# Creates DataFrame.\n",
    "df = pd.DataFrame(data, index=['primero', 'segundo'])\n",
    " \n",
    "# Print the data\n",
    "df"
   ]
  },
  {
   "cell_type": "code",
   "execution_count": null,
   "id": "a74e3c82",
   "metadata": {},
   "outputs": [],
   "source": [
    "# Python program to demonstrate creating\n",
    "# pandas Datadaframe from lists using zip.\n",
    "\n",
    "# List1\n",
    "Name = ['tom', 'krish', 'nick', 'juli']\n",
    "\n",
    "# List2\n",
    "Age = [25, 30, 26, 22]\n",
    "\n",
    "# get the list of tuples from two lists.\n",
    "# and merge them by using zip().\n",
    "list_of_tuples = list(zip(Name, Age))\n",
    "print(list_of_tuples)\n",
    "\n",
    "# Converting lists of tuples into pandas Dataframe.\n",
    "df = pd.DataFrame(list_of_tuples,\n",
    "                  columns = ['Name', 'Age'])\n",
    "\n",
    "# Print data.\n",
    "df"
   ]
  },
  {
   "cell_type": "code",
   "execution_count": null,
   "id": "71da8aff",
   "metadata": {},
   "outputs": [],
   "source": [
    "df.index"
   ]
  },
  {
   "cell_type": "code",
   "execution_count": null,
   "id": "fdf2faab",
   "metadata": {},
   "outputs": [],
   "source": [
    "df.columns"
   ]
  },
  {
   "cell_type": "markdown",
   "id": "ec06a4c0",
   "metadata": {
    "toc-hr-collapsed": true
   },
   "source": [
    "### Leer ficheros CSV"
   ]
  },
  {
   "cell_type": "code",
   "execution_count": null,
   "id": "431ae491",
   "metadata": {},
   "outputs": [],
   "source": [
    "df = pd.read_csv('./datasets/train.csv')\n",
    "df.info()"
   ]
  },
  {
   "cell_type": "code",
   "execution_count": null,
   "id": "ea87d0ae-bc67-4c62-b415-96f6f8c79716",
   "metadata": {},
   "outputs": [],
   "source": [
    "df.dtypes"
   ]
  },
  {
   "cell_type": "code",
   "execution_count": null,
   "id": "78800332-f4ab-4a39-9a58-9d3b43d3f3af",
   "metadata": {},
   "outputs": [],
   "source": [
    "df.head()"
   ]
  },
  {
   "cell_type": "code",
   "execution_count": null,
   "id": "e1c0d4a1-9b80-4b81-b514-97cf5071efc7",
   "metadata": {},
   "outputs": [],
   "source": [
    "df.tail()"
   ]
  },
  {
   "cell_type": "code",
   "execution_count": null,
   "id": "2fc5f4c4-e614-4ab2-bcea-68b390d31700",
   "metadata": {},
   "outputs": [],
   "source": [
    "df.sample(5)"
   ]
  },
  {
   "cell_type": "code",
   "execution_count": null,
   "id": "2c6a19f5-2ebe-4e1d-9ab2-74b9b7e44b47",
   "metadata": {},
   "outputs": [],
   "source": [
    "df.describe()"
   ]
  },
  {
   "cell_type": "markdown",
   "id": "b4fba2a5-cbb8-4693-94a0-9437df20d9f6",
   "metadata": {},
   "source": [
    "#### Lectura de ficheros CSV: cuestiones a considerar\n",
    "\n",
    "Los ficheros CSV son simplemente archivos de texto con una línea por caso (observación), campos (variables, columnas) separados por comas (\",\") y posiblemente una primera línea de cabecera con los nombres de las variables almacenadas en el fichero.\n",
    "\n",
    "A continuación aparece un ejemplo de fichero CSV; contiene cuatro variables y cinco observaciones, con cabecera:\n",
    "```\n",
    "id,nombre,estatura,peso\n",
    "1,Alba,168,55.5\n",
    "2,Berto,170,70.1\n",
    "3,Carla,172,70.9\n",
    "4,David,175,78.3\n",
    "5,Emma,155,49.01\n",
    "```\n",
    "\n",
    "Sin embargo, es probable que encuentres ficheros CSV que no tienen exactamente estas caraterísticas. En particular, algunos ficheros emplean otros separadores distintos de la coma, por ejemplo, el punto y coma (\";\") o el tabulador (\"\\t\"). En el caso de la cabecera, es posible que carezcan de ella o que ésta ocupe más de una línea. \n",
    "\n",
    "Otro aspecto a considerar es qué símbolo se emplea para separar la parte entera de un número de su fracción decimal, conocido como [separador decimal](https://es.wikipedia.org/wiki/Separador_decimal). El sistema internacional admite tanto el punto (\".\") como la coma (\",\"). Por costumbre, algunos países emplean el punto (todos los de cultura anglosajona, por ejemplo), mientras que otros, como España tradicionalmente han empleado la coma.\n",
    "\n",
    "También hay que considerar la [codificación del fichero](https://en.wikipedia.org/wiki/Character_encoding), que es la forma de asociar los símbolos (letras, números, signos de puntuación y otros caracteres) con los valores numéricos con los que se almacenan. Existen diversos tipos de codificación, tales como ASCII, UTF-8, UTF-16, ISO-8859-1 y muchos otros.\n",
    "\n",
    "Por defecto, `pd.read_csv()` espera un fichero CSV con formato similar al del ejemplo anterior: una línea de cabecera, campos (variables) separados por comas) codificados con UTF-8 (al menos en MacOS y Linux). Si el fichero que quieres leer no tiene estas características puedes usar los numerosos parámetros del método para informarle de ellas.\n",
    "\n",
    "Por ejemplo, para indicar que el separador de campos es el punto y coma, puedes usar el argumento *sep*: `pd.read_csv('fichero.csv', sep=';')`. Más información acerca del uso de `pd.read_csv()` en [este enlace a la documentación de pandas](https://pandas.pydata.org/docs/reference/api/pandas.read_csv.html?highlight=pandas%20read_csv#pandas.read_csv).\n",
    "\n",
    "En general, es muy recomendable observar el contenido de los ficheros antes de intentar leerlo con pandas. En particular conviene tener en cuenta lo siguiente:\n",
    "* [Codificación del fichero](https://en.wikipedia.org/wiki/Character_encoding)\n",
    "* Si tiene o no cabecera\n",
    "* Separador de columnas\n",
    "* Separador de coma decimal\n",
    "* Líneas «de sobra» al principio y/o al final del fichero\n"
   ]
  },
  {
   "cell_type": "markdown",
   "id": "6b8a35a8",
   "metadata": {
    "toc-hr-collapsed": true
   },
   "source": [
    "### Selección"
   ]
  },
  {
   "cell_type": "code",
   "execution_count": null,
   "id": "eb1f69e7",
   "metadata": {},
   "outputs": [],
   "source": [
    "df.head()"
   ]
  },
  {
   "cell_type": "code",
   "execution_count": null,
   "id": "39723a7e",
   "metadata": {},
   "outputs": [],
   "source": [
    "df.index"
   ]
  },
  {
   "cell_type": "code",
   "execution_count": null,
   "id": "ea3a110d",
   "metadata": {},
   "outputs": [],
   "source": [
    "df.columns"
   ]
  },
  {
   "cell_type": "markdown",
   "id": "092e3f49",
   "metadata": {},
   "source": [
    "#### Seleccionar columnas: pd.Dataframe.[]"
   ]
  },
  {
   "cell_type": "code",
   "execution_count": null,
   "id": "37daa1ce",
   "metadata": {},
   "outputs": [],
   "source": [
    "# Devuelve una serie\n",
    "df['Name']"
   ]
  },
  {
   "cell_type": "code",
   "execution_count": null,
   "id": "5fb7b72d",
   "metadata": {},
   "outputs": [],
   "source": [
    "# Devuelve un «dataframe»\n",
    "df[['Name', 'Survived']]"
   ]
  },
  {
   "cell_type": "code",
   "execution_count": null,
   "id": "1642b47e",
   "metadata": {},
   "outputs": [],
   "source": [
    "# Devuelve un «dataframe»\n",
    "df[['Name']]"
   ]
  },
  {
   "cell_type": "code",
   "execution_count": null,
   "id": "2b0d6e67",
   "metadata": {},
   "outputs": [],
   "source": [
    "# Error: no hay ninguna columna llamada 3\n",
    "# df[3]"
   ]
  },
  {
   "cell_type": "markdown",
   "id": "34d6ca66",
   "metadata": {},
   "source": [
    "#### Selección por etiquetas (pd.DataFrame.loc[])"
   ]
  },
  {
   "cell_type": "code",
   "execution_count": null,
   "id": "cc9e3fa0",
   "metadata": {},
   "outputs": [],
   "source": [
    "# Devuelve una serie\n",
    "df.loc[0]  # Fila con etiqueta 0"
   ]
  },
  {
   "cell_type": "code",
   "execution_count": null,
   "id": "e8b9eee6",
   "metadata": {},
   "outputs": [],
   "source": [
    "df.loc[[0,10,100]] # Filas con etiquetas 0, 10, 100"
   ]
  },
  {
   "cell_type": "code",
   "execution_count": null,
   "id": "69dbe658",
   "metadata": {},
   "outputs": [],
   "source": [
    "# Devuelve una serie\n",
    "df.loc[[0,10,100], 'Name'] # Filas con etiquetas 0, 10, 100; columna 'Name'"
   ]
  },
  {
   "cell_type": "code",
   "execution_count": null,
   "id": "b9fa78d8",
   "metadata": {},
   "outputs": [],
   "source": [
    "# Rango de filas 10 a 15 (ambas incluidas) y determinadas columnas\n",
    "df.loc[10:15, ['Name', 'Age', 'Cabin']] "
   ]
  },
  {
   "cell_type": "code",
   "execution_count": null,
   "id": "02eb011e",
   "metadata": {},
   "outputs": [],
   "source": [
    "# Rango de filas 10 a 15 (ambas incluidas) y rango de columnas\n",
    "df.loc[10:15, 'Name':'Cabin'] "
   ]
  },
  {
   "cell_type": "code",
   "execution_count": null,
   "id": "5d5775f7",
   "metadata": {},
   "outputs": [],
   "source": [
    "# Error: no hay ninguna columna con la etiqueta 3\n",
    "# df.loc[[0,10,100], 3] "
   ]
  },
  {
   "cell_type": "code",
   "execution_count": null,
   "id": "5cd6141e",
   "metadata": {},
   "outputs": [],
   "source": [
    "# Vamos a cambiar el índice de las filas: usaremos la columna 'Name' como índice\n",
    "df.set_index('Name')"
   ]
  },
  {
   "cell_type": "code",
   "execution_count": null,
   "id": "6b087c47-9227-43ec-b147-342a62d27b3b",
   "metadata": {},
   "outputs": [],
   "source": [
    "# Realmente no se ha cambiado nada; se ha devuelto una copia del dataframe con\n",
    "# el nuevo índice, sin alterar en absoluto el dataframe original\n",
    "df"
   ]
  },
  {
   "cell_type": "code",
   "execution_count": null,
   "id": "3f942fdf-af7d-4910-b7ee-1f768f4db6cd",
   "metadata": {},
   "outputs": [],
   "source": [
    "# Entonces, vamos a almacenar el dataframe con el índice nuevo en un nuevo dataframe\n",
    "df2 = df.set_index('Name')\n",
    "df2"
   ]
  },
  {
   "cell_type": "code",
   "execution_count": null,
   "id": "aa086ad1",
   "metadata": {},
   "outputs": [],
   "source": [
    "df2.index"
   ]
  },
  {
   "cell_type": "code",
   "execution_count": null,
   "id": "06749b99",
   "metadata": {},
   "outputs": [],
   "source": [
    "df2.loc['Montvila, Rev. Juozas':'Dooley, Mr. Patrick']"
   ]
  },
  {
   "cell_type": "code",
   "execution_count": null,
   "id": "39f8fa2f",
   "metadata": {},
   "outputs": [],
   "source": [
    "df2.loc['Montvila, Rev. Juozas':'Dooley, Mr. Patrick', ['PassengerId', 'Sex', 'Age']]"
   ]
  },
  {
   "cell_type": "code",
   "execution_count": null,
   "id": "87862f24",
   "metadata": {},
   "outputs": [],
   "source": [
    "# Seleccionar todas las filas y solo algunas columnas concretas\n",
    "df2.loc[:, ['PassengerId', 'Sex', 'Age']]"
   ]
  },
  {
   "cell_type": "markdown",
   "id": "5e3f5457",
   "metadata": {},
   "source": [
    "#### Selección por posición (pd.DataFrame.iloc[])"
   ]
  },
  {
   "cell_type": "code",
   "execution_count": null,
   "id": "a16393c7",
   "metadata": {},
   "outputs": [],
   "source": [
    "df.head()"
   ]
  },
  {
   "cell_type": "code",
   "execution_count": null,
   "id": "14a72bdc",
   "metadata": {},
   "outputs": [],
   "source": [
    "# Selección de filas enteras\n",
    "df.iloc[0]"
   ]
  },
  {
   "cell_type": "code",
   "execution_count": null,
   "id": "7538e840",
   "metadata": {},
   "outputs": [],
   "source": [
    "# Selección de múltiples filas\n",
    "df.iloc[[i for i in np.arange(0, len(df), 100)]]"
   ]
  },
  {
   "cell_type": "code",
   "execution_count": null,
   "id": "62e998c7",
   "metadata": {},
   "outputs": [],
   "source": [
    "# Selección de filas y columnas\n",
    "df.iloc[[0,10,800], [0, 3, 1, 4]]"
   ]
  },
  {
   "cell_type": "code",
   "execution_count": null,
   "id": "3547dd6f",
   "metadata": {},
   "outputs": [],
   "source": [
    "df2.head()"
   ]
  },
  {
   "cell_type": "code",
   "execution_count": null,
   "id": "b98b2454",
   "metadata": {},
   "outputs": [],
   "source": [
    "df2.iloc[[0, 3, 4], 0:4]"
   ]
  },
  {
   "cell_type": "code",
   "execution_count": null,
   "id": "52a6d0cb",
   "metadata": {},
   "outputs": [],
   "source": [
    "# Restablecer el \"índice por defecto\"\n",
    "df2 = df2.reset_index()\n",
    "df2"
   ]
  },
  {
   "cell_type": "markdown",
   "id": "1841a447",
   "metadata": {},
   "source": [
    "#### NO uses pd.DataFrame.ix[]\n",
    "\n",
    "Actualmente está no recomendado (deprecated) y es probable que desaparezca en futuras versiones. Permite un acceso \"mixto\" mezclando etiquetas y enteros, lo que puede dar lugar a confusión."
   ]
  },
  {
   "cell_type": "markdown",
   "id": "d3bcf1c1",
   "metadata": {},
   "source": [
    "#### Selección mediante condiciones lógicas (boolean indexing)"
   ]
  },
  {
   "cell_type": "code",
   "execution_count": null,
   "id": "f9251e16",
   "metadata": {},
   "outputs": [],
   "source": [
    "# Seleccionar observaciones cuya edad esté por debajo de una cierto umbral\n",
    "mask = df['Age'] < 21\n",
    "mask"
   ]
  },
  {
   "cell_type": "code",
   "execution_count": null,
   "id": "8bd548b1",
   "metadata": {},
   "outputs": [],
   "source": [
    "df[mask]\n",
    "# o bien\n",
    "# df[df['Age'] < 21]"
   ]
  },
  {
   "cell_type": "code",
   "execution_count": null,
   "id": "bfd97cc4-ca50-4ffa-bbc0-c84009b77dd6",
   "metadata": {},
   "outputs": [],
   "source": [
    "# Es muy usual usar directamente la expresión booleana como índice, directamente\n",
    "df[df['Age'] < 21]"
   ]
  },
  {
   "cell_type": "code",
   "execution_count": null,
   "id": "81ac7a71",
   "metadata": {},
   "outputs": [],
   "source": [
    "# ¿Cuántas personas se han seleccionado?\n",
    "print(df[mask].shape)\n",
    "print(len(df[mask]))"
   ]
  },
  {
   "cell_type": "code",
   "execution_count": null,
   "id": "c4764fc4",
   "metadata": {},
   "outputs": [],
   "source": [
    "# Pueden usarse expresiones lógicas más complejas usando \n",
    "# combinaciones de operadores lógicos AND (&), OR (|), NOT(~)\n",
    "df[(df['Survived'] == 1) & (df['Sex'] == 'female')]\n",
    "# Los paréntesis son importantes"
   ]
  },
  {
   "cell_type": "code",
   "execution_count": null,
   "id": "be16e344",
   "metadata": {},
   "outputs": [],
   "source": [
    "# Pueden usarse expresiones lógicas más complejas usando \n",
    "# combinaciones de operadores lógicos AND (&), OR (|), NOT(~)\n",
    "df[(df['Survived'] == 1) & (df['Sex'] == 'female')].loc[2:6, ['Name', 'Age', 'Embarked']]\n",
    "# Los paréntesis son importantes"
   ]
  },
  {
   "cell_type": "markdown",
   "id": "4cbb873e",
   "metadata": {},
   "source": [
    "**Ejercicio**: En el siguiente enlace se explica cómo acceder a elementos combinando el acceso por etiqueta (.loc) y el acceso por posición (.iloc):\n",
    "\n",
    "__[https://pandas.pydata.org/pandas-docs/stable/user_guide/indexing.html#combining-positional-and-label-based-indexing](https://pandas.pydata.org/pandas-docs/stable/user_guide/indexing.html#combining-positional-and-label-based-indexing)__\n",
    "\n",
    "1. Selecciona las variables Age, Name, Survived correspondientes a las filas pares\n",
    "1. Selecciona las columnas que están en las posiciones 1, 3, 4 y 8 correspondientes a las filas 32, 45 y 800 "
   ]
  },
  {
   "cell_type": "code",
   "execution_count": null,
   "id": "1ae71a6a",
   "metadata": {},
   "outputs": [],
   "source": [
    "df.loc[::2, ['Name', 'Age', 'Survived']]"
   ]
  },
  {
   "cell_type": "markdown",
   "id": "2d8ec21a",
   "metadata": {
    "toc-hr-collapsed": true
   },
   "source": [
    "### Métodos de agregación\n",
    "\n",
    "Devuelven un valor escalar calculado a partir de los valores de la Serie."
   ]
  },
  {
   "cell_type": "code",
   "execution_count": null,
   "id": "8c1b01ae",
   "metadata": {},
   "outputs": [],
   "source": [
    "# Dataset (pequeño) de datos de películas\n",
    "df = pd.read_csv('./datasets/tiny.csv')\n",
    "print(df.shape)\n",
    "df"
   ]
  },
  {
   "cell_type": "code",
   "execution_count": null,
   "id": "ebf26b8f",
   "metadata": {},
   "outputs": [],
   "source": [
    "df.info()"
   ]
  },
  {
   "cell_type": "code",
   "execution_count": null,
   "id": "34f7aba2",
   "metadata": {},
   "outputs": [],
   "source": [
    "df['Rating'].mean()"
   ]
  },
  {
   "cell_type": "code",
   "execution_count": null,
   "id": "a930fdc9",
   "metadata": {},
   "outputs": [],
   "source": [
    "df[['Rating', 'Title']].max()"
   ]
  },
  {
   "cell_type": "code",
   "execution_count": null,
   "id": "2a0fd69e",
   "metadata": {},
   "outputs": [],
   "source": [
    "df[['Rating', 'Title']].min()"
   ]
  },
  {
   "cell_type": "code",
   "execution_count": null,
   "id": "815387f1",
   "metadata": {},
   "outputs": [],
   "source": [
    "df['Rating'].sum()"
   ]
  },
  {
   "cell_type": "code",
   "execution_count": null,
   "id": "b4f11115",
   "metadata": {},
   "outputs": [],
   "source": [
    "df['Rating'].median()"
   ]
  },
  {
   "cell_type": "code",
   "execution_count": null,
   "id": "e9c11ab2",
   "metadata": {},
   "outputs": [],
   "source": [
    "df['Rating'].quantile()"
   ]
  },
  {
   "cell_type": "code",
   "execution_count": null,
   "id": "770a5abe",
   "metadata": {},
   "outputs": [],
   "source": [
    "df['Rating'].quantile([.25, .5, .75])"
   ]
  },
  {
   "cell_type": "code",
   "execution_count": null,
   "id": "077479f4",
   "metadata": {},
   "outputs": [],
   "source": [
    "df['Rating'].describe()"
   ]
  },
  {
   "cell_type": "code",
   "execution_count": null,
   "id": "541b22ac",
   "metadata": {},
   "outputs": [],
   "source": [
    "df['Rating'].idxmax()"
   ]
  },
  {
   "cell_type": "code",
   "execution_count": null,
   "id": "841bacd3",
   "metadata": {},
   "outputs": [],
   "source": [
    "df['Rating'].idxmin()"
   ]
  },
  {
   "cell_type": "markdown",
   "id": "274d6ca0",
   "metadata": {},
   "source": [
    "En [este enlace](https://pandas.pydata.org/docs/user_guide/groupby.html#aggregation) hay una lista (no exhaustiva) de funciones de agregación. En general, cualquier función (incluso creada por el usuario) que reduzca los valores de una *Serie* a un escalar es una función de agregación."
   ]
  },
  {
   "cell_type": "markdown",
   "id": "e0d7d0dd",
   "metadata": {},
   "source": [
    "#### Agregación con *.agg*"
   ]
  },
  {
   "cell_type": "code",
   "execution_count": null,
   "id": "5ae301c0",
   "metadata": {},
   "outputs": [],
   "source": [
    "df['Rating'].agg('mean')"
   ]
  },
  {
   "cell_type": "code",
   "execution_count": null,
   "id": "c43168d4",
   "metadata": {},
   "outputs": [],
   "source": [
    "df['Rating'].agg(['quantile', 'mean', 'min', 'max'])"
   ]
  },
  {
   "cell_type": "code",
   "execution_count": null,
   "id": "429bf87f",
   "metadata": {},
   "outputs": [],
   "source": [
    "df['Rating'].agg(lambda x: x**2 + 1)"
   ]
  },
  {
   "cell_type": "markdown",
   "id": "7f277346",
   "metadata": {},
   "source": [
    "## Ejercicios\n",
    "Resuelve las siguientes cuestiones con pandas. Todas están referidas al dataset del Titanic (`train.csv`)\n",
    "\n",
    "1. ¿Qué variables del dataset *train.csv* del titanic son categóricas y cuáles numéricas? Usa tu olfato de *data scientist* en ciernes y, si quieres, alguna función de pandas que pueda ayudar.\n",
    "\n",
    "1. ¿Qué hace el método `df.nunique()`? Considera su aplicación al dataframe completo o a un subconjunto de variables (columnas).\n",
    "\n",
    "1. ¿Cómo se pueden obtener las categorías que componen una variable categórica? Aplícalo a las variables categóricas del dataset que consideres oportuno.\n",
    "> Las categorías de *Pclass* son 1, 2 y 3\n",
    "\n",
    "1. Calcula la media y la desviación típica del precio de los billetes.\n",
    "\n",
    "1. Calcula los cuartiles de la variable *Fare* y los deciles de la variable *Age*.\n",
    "\n",
    "1. ¿Cuántas mujeres figuran en el dataset? ¿y hombres?\n",
    "\n",
    "1. ¿Cuál es el precio más alto que se pagó por un billete de tercera clase? ¿Era de un pasajero femenino o masculino?\n",
    "\n",
    "1. ¿Cuál fue la tarifa más alta que se aplicó a las mujeres menores de 35 años?\n",
    "\n",
    "1. Considera el conjunto de los pasajeros masculinos de segunda y tercera clase. ¿Cuál es la media de edad de ese subconjunto?\n",
    "\n",
    "1. Pandas usa `NaN` (Not a Number) para denotar los valores que se desconocen. Averigua el número de valores que faltan (es decir, el número de NaNs) que hay en cada variable (columna). ¿Cuál es la variable que tiene mayor número de valores no disponibles (NaN)?\n",
    "\n",
    "1. En el enlace que aparece más abajo se explica cómo acceder a elementos combinando el acceso por etiqueta (.loc) y el acceso por posición (.iloc). Selecciona, por su nombre, las variables *Age*, *Name*, *Survived* correspondientes a las filas pares.\n",
    "\n",
    "> __[https://pandas.pydata.org/pandas-docs/stable/user_guide/indexing.html#combining-positional-and-label-based-indexing](https://pandas.pydata.org/pandas-docs/stable/user_guide/indexing.html#combining-positional-and-label-based-indexing)__\n"
   ]
  },
  {
   "cell_type": "markdown",
   "id": "a44814a9",
   "metadata": {},
   "source": [
    "## Recursos\n",
    "- __[tutorial 10 minutes to pandas](https://pandas.pydata.org/pandas-docs/stable/user_guide/10min.html)__\n",
    "- __[documentación de pandas](https://pandas.pydata.org/pandas-docs/stable/user_guide/index.html)__\n",
    "- __[Pandas cheat sheet](https://pandas.pydata.org/Pandas_Cheat_Sheet.pdf)__\n",
    "- Búsquedas en internet; especialmente valiosas las de *stack overflow*"
   ]
  }
 ],
 "metadata": {
  "kernelspec": {
   "display_name": "Python 3.10.9",
   "language": "python",
   "name": "python3"
  },
  "language_info": {
   "codemirror_mode": {
    "name": "ipython",
    "version": 3
   },
   "file_extension": ".py",
   "mimetype": "text/x-python",
   "name": "python",
   "nbconvert_exporter": "python",
   "pygments_lexer": "ipython3",
   "version": "3.10.9"
  },
  "toc": {
   "base_numbering": 1,
   "nav_menu": {
    "height": "238px",
    "width": "282px"
   },
   "number_sections": true,
   "sideBar": true,
   "skip_h1_title": false,
   "title_cell": "Table of Contents",
   "title_sidebar": "Contents",
   "toc_cell": false,
   "toc_position": {},
   "toc_section_display": true,
   "toc_window_display": true
  },
  "toc-autonumbering": false,
  "toc-showcode": false,
  "toc-showmarkdowntxt": false,
  "toc-showtags": false,
  "vscode": {
   "interpreter": {
    "hash": "124093b7be10c32076c75f60f415d6def65edeb693f6c465ae4e1e508e9d8137"
   }
  }
 },
 "nbformat": 4,
 "nbformat_minor": 5
}
